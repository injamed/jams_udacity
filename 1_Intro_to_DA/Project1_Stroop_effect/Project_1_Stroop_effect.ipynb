{
 "cells": [
  {
   "cell_type": "markdown",
   "metadata": {},
   "source": [
    "Project 1: Stroop effect\n",
    "========================"
   ]
  },
  {
   "cell_type": "markdown",
   "metadata": {},
   "source": [
    "1. What is our independent variable? What is our dependent variable?\n",
    "------------------------------------------"
   ]
  },
  {
   "cell_type": "markdown",
   "metadata": {},
   "source": [
    "_independent variable_: word's condition (congruent or incongruent)\n",
    "\n",
    "_dependent variable_: time it takes to read a list"
   ]
  },
  {
   "cell_type": "markdown",
   "metadata": {},
   "source": [
    "2. What is an appropriate hypothesis for this task? What kind of statistical test do you expect to perform? Justify your choices.\n",
    "------------------"
   ]
  },
  {
   "cell_type": "markdown",
   "metadata": {},
   "source": [
    "($H_0$) _0-hypothesis_: mean time of reading is equal for congruent and incongruent lists ($\\mu_c = \\mu_i$)\n",
    "\n",
    "($H_1$) _alternative_: mean time of reading incongruent list is greater than mean time of reading congruent list ($\\mu_c < \\mu_i$)\n",
    "\n",
    "Note: I decided to use one-tailed test after reading the [description](https://en.wikipedia.org/wiki/Stroop_effect) \n",
    "\n",
    "I will use [Student's t-test for the paired samples](https://en.wikipedia.org/wiki/Student%27s_t-test#Paired_samples) because every participant read list for each condition (congruent and incongruent), so we have pairs of similar units and need to verify statistically is there a difference between the results for these paired groups."
   ]
  },
  {
   "cell_type": "code",
   "execution_count": 68,
   "metadata": {
    "collapsed": false
   },
   "outputs": [],
   "source": [
    "import numpy as np\n",
    "import pandas as pd\n",
    "import scipy as sp\n",
    "import matplotlib.pyplot as plt\n",
    "import seaborn as sns"
   ]
  },
  {
   "cell_type": "code",
   "execution_count": 69,
   "metadata": {
    "collapsed": false
   },
   "outputs": [
    {
     "data": {
      "text/html": [
       "<div>\n",
       "<table border=\"1\" class=\"dataframe\">\n",
       "  <thead>\n",
       "    <tr style=\"text-align: right;\">\n",
       "      <th></th>\n",
       "      <th>Congruent</th>\n",
       "      <th>Incongruent</th>\n",
       "    </tr>\n",
       "  </thead>\n",
       "  <tbody>\n",
       "    <tr>\n",
       "      <th>0</th>\n",
       "      <td>12.079</td>\n",
       "      <td>19.278</td>\n",
       "    </tr>\n",
       "    <tr>\n",
       "      <th>1</th>\n",
       "      <td>16.791</td>\n",
       "      <td>18.741</td>\n",
       "    </tr>\n",
       "    <tr>\n",
       "      <th>2</th>\n",
       "      <td>9.564</td>\n",
       "      <td>21.214</td>\n",
       "    </tr>\n",
       "    <tr>\n",
       "      <th>3</th>\n",
       "      <td>8.630</td>\n",
       "      <td>15.687</td>\n",
       "    </tr>\n",
       "    <tr>\n",
       "      <th>4</th>\n",
       "      <td>14.669</td>\n",
       "      <td>22.803</td>\n",
       "    </tr>\n",
       "  </tbody>\n",
       "</table>\n",
       "</div>"
      ],
      "text/plain": [
       "   Congruent   Incongruent\n",
       "0     12.079        19.278\n",
       "1     16.791        18.741\n",
       "2      9.564        21.214\n",
       "3      8.630        15.687\n",
       "4     14.669        22.803"
      ]
     },
     "execution_count": 69,
     "metadata": {},
     "output_type": "execute_result"
    }
   ],
   "source": [
    "df_path = r'~/Documents/PycharmProjects/udacity_project/Project1_Stroop_effect/stroopdata.csv'\n",
    "df = pd.read_csv(df_path)\n",
    "df.head()"
   ]
  },
  {
   "cell_type": "markdown",
   "metadata": {},
   "source": [
    "3. Report some descriptive statistics regarding this dataset. Include at least one measure of central tendency and at least one measure of variability.\n",
    "--------"
   ]
  },
  {
   "cell_type": "code",
   "execution_count": 70,
   "metadata": {
    "collapsed": false
   },
   "outputs": [
    {
     "name": "stdout",
     "output_type": "stream",
     "text": [
      "       Congruent   Incongruent\n",
      "count  24.000000     24.000000\n",
      "mean   14.051125     22.015917\n",
      "std     3.559358      4.797057\n",
      "min     8.630000     15.687000\n",
      "25%    11.895250     18.716750\n",
      "50%    14.356500     21.017500\n",
      "75%    16.200750     24.051500\n",
      "max    22.328000     35.255000\n"
     ]
    }
   ],
   "source": [
    "print df.describe()"
   ]
  },
  {
   "cell_type": "markdown",
   "metadata": {},
   "source": [
    "4. Provide one or two visualizations that show the distribution of the sample data. Write one or two sentences noting what you observe about the plot or plots.\n",
    "--------------------"
   ]
  },
  {
   "cell_type": "code",
   "execution_count": 71,
   "metadata": {
    "collapsed": false
   },
   "outputs": [
    {
     "name": "stdout",
     "output_type": "stream",
     "text": [
      "Populating the interactive namespace from numpy and matplotlib\n"
     ]
    },
    {
     "data": {
      "text/plain": [
       "<matplotlib.axes._subplots.AxesSubplot at 0x10ef96290>"
      ]
     },
     "execution_count": 71,
     "metadata": {},
     "output_type": "execute_result"
    },
    {
     "data": {
      "image/png": "[encoded data removed]",
      "text/plain": [
       "<matplotlib.figure.Figure at 0x10f386bd0>"
      ]
     },
     "metadata": {},
     "output_type": "display_data"
    }
   ],
   "source": [
    "%pylab inline\n",
    "\n",
    "sns.boxplot(data=df)\n",
    "sns.stripplot(data=df, edgecolor=\"gray\", alpha=0.5)"
   ]
  },
  {
   "cell_type": "markdown",
   "metadata": {},
   "source": [
    "_Here we can graphically see, that mean value of Incongruent group larger than in Congruent group, so alternative hypothesis seems meaningful. On boxplots medians are shown, but as we can see on the dotplots - outliers of the Incongruent set will only make mean of this group larger._"
   ]
  },
  {
   "cell_type": "code",
   "execution_count": 72,
   "metadata": {
    "collapsed": false
   },
   "outputs": [
    {
     "name": "stdout",
     "output_type": "stream",
     "text": [
      "Populating the interactive namespace from numpy and matplotlib\n"
     ]
    },
    {
     "data": {
      "text/plain": [
       "count    24.000000\n",
       "mean     -7.964792\n",
       "std       4.864827\n",
       "min     -21.919000\n",
       "25%     -10.258500\n",
       "50%      -7.666500\n",
       "75%      -3.645500\n",
       "max      -1.950000\n",
       "Name: Diff, dtype: float64"
      ]
     },
     "execution_count": 72,
     "metadata": {},
     "output_type": "execute_result"
    },
    {
     "data": {
      "image/png": "[encoded data removed]",
      "text/plain": [
       "<matplotlib.figure.Figure at 0x10f309690>"
      ]
     },
     "metadata": {},
     "output_type": "display_data"
    }
   ],
   "source": [
    "# df.head()\n",
    "df['Diff'] = df['Congruent'] - df[' Incongruent']\n",
    "df.head()\n",
    "%pylab inline\n",
    "\n",
    "plt.figure()\n",
    "df['Diff'].plot(kind='hist', bins=10, alpha=0.7)\n",
    "df['Diff'].describe()"
   ]
  },
  {
   "cell_type": "markdown",
   "metadata": {},
   "source": [
    "_Here is a histogram of the difference. All values are below 0 with mean value around -8.0. Even from this observation we can assume, that it is very likely, that we will obtain statistically significant result (diffenerce)._"
   ]
  },
  {
   "cell_type": "markdown",
   "metadata": {},
   "source": [
    "5. Now, perform the statistical test and report your results. What is your confidence level and your critical statistic value? Do you reject the null hypothesis or fail to reject it? Come to a conclusion in terms of the experiment task. Did the results match up with your expectations?\n",
    "----------"
   ]
  },
  {
   "cell_type": "code",
   "execution_count": 80,
   "metadata": {
    "collapsed": false
   },
   "outputs": [
    {
     "name": "stdout",
     "output_type": "stream",
     "text": [
      "Confidence level: 99%\n",
      "t-statistic: t = -8.02070694411\n",
      "two tailed p-value: p = 4.10300058571e-08\n",
      "one tailed p-value: p = 2.05150029286e-08\n"
     ]
    }
   ],
   "source": [
    "print 'confidence level: 99%'\n",
    "print 't-statistic: t =',sp.stats.ttest_rel(df['Congruent'], df[' Incongruent'], axis=0)[0]\n",
    "print 'two tailed p-value: p =',sp.stats.ttest_rel(df['Congruent'], df[' Incongruent'], axis=0)[1]\n",
    "print 'one tailed p-value: p =',sp.stats.ttest_rel(df['Congruent'], df[' Incongruent'], axis=0)[1]/2"
   ]
  },
  {
   "cell_type": "markdown",
   "metadata": {},
   "source": [
    "_scipy.stats.ttest_rel performs two-tailed t-test for the related samples and, (due to [this discussion](http://scipy-user.10969.n7.nabble.com/scipy-stats-one-sided-two-sided-less-greater-signed-td3730.html#a31795926)), p-value for the one-sided test is **p = 2.05150029286e-08**. Nevertheless, p-value is so tiny, that it is obvious that we will **reject null (even for significance level of $\\alpha = 0.01$ (confidence level 99%)). That is - there is a significant difference between mean time of reading congruent and incongruent lists, we are 99% confident, that reading of incongruent list takes on average from 5.187 to 10.743 second more, than reading congruent list**. As it was said previously, it was easy to see from difference data set that we will obtain such result._"
   ]
  },
  {
   "cell_type": "markdown",
   "metadata": {},
   "source": [
    "6. Optional: What do you think is responsible for the effects observed? Can you think of an alternative or similar task that would result in a similar effect? Some research about the problem will be helpful for thinking about these two questions!\n",
    "---------"
   ]
  },
  {
   "cell_type": "markdown",
   "metadata": {},
   "source": [
    "As it was said in [this page](https://faculty.washington.edu/chudler/words.html#seffect) in section \"why?\" that our perception of information - ability to read - causes the problem. Also there are some variants of tests. As a read them, it is hard for me now to imagine something new. But I've heard about one test, that can be done by children much faster, than by adults (so here we would've done test for independent samples). Maybe it is not the thing that you ask, but I will share anyway:\n",
    "\n",
    "we have rows of numbers and some kind of 'result' for these rows. We have to figure out last result:\n",
    "\n",
    "1 2 8 3 - 2\n",
    "\n",
    "4 6 9 2 - 2\n",
    "\n",
    "4 5 2 7 - 0\n",
    "\n",
    "8 1 9 8 - 5\n",
    "\n",
    "3 4 7 9 - 1\n",
    "\n",
    "3 8 6 1 - ?"
   ]
  },
  {
   "cell_type": "markdown",
   "metadata": {},
   "source": [
    "Links\n",
    "====="
   ]
  },
  {
   "cell_type": "markdown",
   "metadata": {},
   "source": [
    "1. [t-test for paired samples, wiki](https://en.wikipedia.org/wiki/Student%27s_t-test#Paired_samples)\n",
    "2. [scipy.stats.ttest_rel doc](http://docs.scipy.org/doc/scipy-0.15.1/reference/generated/scipy.stats.ttest_rel.html)\n",
    "3. [one sided ttest_rel?](http://scipy-user.10969.n7.nabble.com/scipy-stats-one-sided-two-sided-less-greater-signed-td3730.html#a31795926)\n",
    "4. [visualization, stackoverflow](http://stackoverflow.com/questions/23519135/dot-boxplots-from-dataframes)\n",
    "5. [ipython markdown doc](http://daringfireball.net/projects/markdown/syntax)\n",
    "\n",
    "calculation of confidence interval was done in R - std(), mean(), qt() functions."
   ]
  },
  {
   "cell_type": "code",
   "execution_count": null,
   "metadata": {
    "collapsed": true
   },
   "outputs": [],
   "source": []
  }
 ],
 "metadata": {
  "kernelspec": {
   "display_name": "Python 2",
   "language": "python",
   "name": "python2"
  },
  "language_info": {
   "codemirror_mode": {
    "name": "ipython",
    "version": 2
   },
   "file_extension": ".py",
   "mimetype": "text/x-python",
   "name": "python",
   "nbconvert_exporter": "python",
   "pygments_lexer": "ipython2",
   "version": "2.7.6"
  }
 },
 "nbformat": 4,
 "nbformat_minor": 0
}
