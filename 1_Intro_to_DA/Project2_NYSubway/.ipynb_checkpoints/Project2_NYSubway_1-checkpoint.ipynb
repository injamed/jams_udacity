{
 "cells": [
  {
   "cell_type": "markdown",
   "metadata": {},
   "source": [
    "Project 2: Analyzing the NYC Subway Dataset\n",
    "=============="
   ]
  },
  {
   "cell_type": "markdown",
   "metadata": {},
   "source": [
    "**NOTE: EVERYTHING WAS RECALCULATED USING IMPROVED DATASET (turnstile_weather_v2.csv).**"
   ]
  },
  {
   "cell_type": "markdown",
   "metadata": {},
   "source": [
    "-----------"
   ]
  },
  {
   "cell_type": "markdown",
   "metadata": {},
   "source": [
    "Section 0. References\n",
    "-----------"
   ]
  },
  {
   "cell_type": "markdown",
   "metadata": {},
   "source": [
    "----------------"
   ]
  },
  {
   "cell_type": "markdown",
   "metadata": {},
   "source": [
    " Problems with understanding and interpretation of the Mann-Whitney U-test:\n",
    "        \n",
    " https://discussions.udacity.com/t/problem-set-3-3-interpreting-mann-whitney-u-test-repost/25403/2   \n",
    " \n",
    " https://discussions.udacity.com/t/welchs-ttest-use-it-if-distribution-not-normal/21193\n",
    " \n",
    " Linear regression with Python:\n",
    " \n",
    " http://connor-johnson.com/2014/02/18/linear-regression-with-python/\n",
    " \n",
    " R squared one more time:\n",
    " \n",
    " https://en.wikipedia.org/wiki/Coefficient_of_determination#Interpretation\n",
    " \n",
    " Matplotlib: equal width of the bins in histogram (looks familiar):\n",
    " \n",
    " http://stackoverflow.com/questions/28101623/python-pyplot-histogram-adjusting-bin-width-not-number-of-bins\n",
    " \n",
    " QQ-plots:\n",
    " \n",
    " https://en.wikipedia.org/wiki/Q%E2%80%93Q_plot\n",
    " \n",
    " http://stats.stackexchange.com/questions/101274/how-to-interpret-a-qq-plot"
   ]
  },
  {
   "cell_type": "markdown",
   "metadata": {},
   "source": [
    "----------"
   ]
  },
  {
   "cell_type": "markdown",
   "metadata": {},
   "source": [
    "\n",
    "Section 1. Statistical Test\n",
    "------------"
   ]
  },
  {
   "cell_type": "markdown",
   "metadata": {},
   "source": [
    "*********************"
   ]
  },
  {
   "cell_type": "markdown",
   "metadata": {},
   "source": [
    "**1.1 Which statistical test did you use to analyze the NYC subway data? Did you use a one-tail or a two-tail P value? What is the null hypothesis? What is your p-critical value?**"
   ]
  },
  {
   "cell_type": "markdown",
   "metadata": {},
   "source": [
    "I used **two-sided Mann-Whitney U-test** (two-tailed p-value: 5.482139e-06)\n",
    "\n",
    "null hypothesis $H_0$: distribution of the number of entries equal for rainy and non rainy days\n",
    "\n",
    "alternative hypothesis $H_1$: distribution of the number of entries different for rainy and non rainy days"
   ]
  },
  {
   "cell_type": "markdown",
   "metadata": {},
   "source": [
    "--------------"
   ]
  },
  {
   "cell_type": "markdown",
   "metadata": {},
   "source": [
    "**1.2 Why is this statistical test applicable to the dataset? In particular, consider the assumptions that the test is making about the distribution of ridership in the two samples.**"
   ]
  },
  {
   "cell_type": "markdown",
   "metadata": {},
   "source": [
    "In this case we need to check, if values from one sample is greater, than in the other, but we can't use parametric test (t-test), because both sample's distributions are right-skewed (for the t-test we need a normal distribution). Values in both samples represents number of the passengers, so can be compared with the relation \"<\" or \">\" ([continuity correction](http://docs.scipy.org/doc/scipy-0.15.1/reference/generated/scipy.stats.mannwhitneyu.html) for equal values applies by default in scipy's implementation)."
   ]
  },
  {
   "cell_type": "markdown",
   "metadata": {},
   "source": [
    "------------"
   ]
  },
  {
   "cell_type": "markdown",
   "metadata": {},
   "source": [
    "**1.3 What results did you get from this statistical test? These should include the following numerical values: p-values, as well as the means for each of the two samples under test.**"
   ]
  },
  {
   "cell_type": "markdown",
   "metadata": {},
   "source": [
    "mean for the rainy days sample: $\\mu_r = 2028.196$\n",
    "\n",
    "mean for the non rainy days sample: $\\mu_r = 1845.5394$\n",
    "\n",
    "p-value: p = 5.482139e-06"
   ]
  },
  {
   "cell_type": "markdown",
   "metadata": {},
   "source": [
    "------------"
   ]
  },
  {
   "cell_type": "markdown",
   "metadata": {},
   "source": [
    "**1.4 What is the significance and interpretation of these results?**"
   ]
  },
  {
   "cell_type": "markdown",
   "metadata": {},
   "source": [
    "With the significance level α=0.05 null-hypothesis is rejected in favour of the alternative. \n",
    "Distribution of the number of entrances statistically different between rainy and non rainy days. Comparisons of means suppose, that we have higher number of entrances in rainy days."
   ]
  },
  {
   "cell_type": "markdown",
   "metadata": {},
   "source": [
    "-------------"
   ]
  },
  {
   "cell_type": "markdown",
   "metadata": {},
   "source": [
    "Section 2. Linear Regression\n",
    "=============="
   ]
  },
  {
   "cell_type": "markdown",
   "metadata": {},
   "source": [
    "------------"
   ]
  },
  {
   "cell_type": "markdown",
   "metadata": {},
   "source": [
    "**2.1 What approach did you use to compute the coefficients theta and produce prediction for ENTRIESn_hourly in your regression model:**\n",
    "\n",
    "**OLS using Statsmodels or Scikit Learn**\n",
    "\n",
    "**Gradient descent using Scikit Learn**\n",
    "\n",
    "**Or something different?**"
   ]
  },
  {
   "cell_type": "markdown",
   "metadata": {},
   "source": [
    "I used statmodels.OLS(.,.)"
   ]
  },
  {
   "cell_type": "markdown",
   "metadata": {},
   "source": [
    "------------------"
   ]
  },
  {
   "cell_type": "markdown",
   "metadata": {},
   "source": [
    "**2.2 What features (input variables) did you use in your model? Did you use any dummy variables as part of your features?**"
   ]
  },
  {
   "cell_type": "markdown",
   "metadata": {},
   "source": [
    "I used: 'rain' 'weekday' and 'hour', 'UNIT' as a dummy variables, "
   ]
  },
  {
   "cell_type": "markdown",
   "metadata": {},
   "source": [
    "----------"
   ]
  },
  {
   "cell_type": "markdown",
   "metadata": {},
   "source": [
    "**2.3 Why did you select these features in your model? We are looking for specific reasons that lead you to believe that\n",
    "the selected features will contribute to the predictive power of your model.\n",
    "Your reasons might be based on intuition. For example, response for fog might be: “I decided to use fog because I thought that when it is very foggy outside people might decide to use the subway more often.”\n",
    "Your reasons might also be based on data exploration and experimentation, for example: “I used feature X because as soon as I included it in my model, it drastically improved my R2 value.”**"
   ]
  },
  {
   "cell_type": "markdown",
   "metadata": {},
   "source": [
    "After an observation, that a large number of the potential features are weather conditions (so related to each other and this can cause multicollinearity), I decided to use only one of the weather variables - 'rain'. Then it was an observations from the histograms of the next section - number of passengers definitely varies depending on day of week and time of day."
   ]
  },
  {
   "cell_type": "markdown",
   "metadata": {},
   "source": [
    "------------"
   ]
  },
  {
   "cell_type": "markdown",
   "metadata": {},
   "source": [
    "**2.4 What are the parameters (also known as \"coefficients\" or \"weights\") of the non-dummy features in your linear regression model?**"
   ]
  },
  {
   "cell_type": "markdown",
   "metadata": {},
   "source": [
    "| feature   | weight   |\n",
    "|-----------|----------|\n",
    "| const     | -1022.636 |\n",
    "| rain      | 40.617    |\n",
    "| weekday | 1003.760    |"
   ]
  },
  {
   "cell_type": "markdown",
   "metadata": {},
   "source": [
    "------------"
   ]
  },
  {
   "cell_type": "markdown",
   "metadata": {},
   "source": [
    "**2.5 What is your model’s R2 (coefficients of determination) value?**"
   ]
  },
  {
   "cell_type": "markdown",
   "metadata": {},
   "source": [
    "$R^2 = 0.541$"
   ]
  },
  {
   "cell_type": "markdown",
   "metadata": {},
   "source": [
    "----------"
   ]
  },
  {
   "cell_type": "markdown",
   "metadata": {},
   "source": [
    "**2.6 What does this R2 value mean for the goodness of fit for your regression model? Do you think this linear model to predict ridership is appropriate for this dataset, given this R2  value?**"
   ]
  },
  {
   "cell_type": "markdown",
   "metadata": {},
   "source": [
    "Around 54% of the variance in the response variable (number of entrances per hour) can be explained by the explanatory variables. Though this value is reasonably high, histogram of the residuals shows, that heavy tails are present. So fit of the model is not perfect, still I don't know, if it could be better with the linear model."
   ]
  },
  {
   "cell_type": "markdown",
   "metadata": {},
   "source": [
    "<img src=\"residuals_hist_cl.png\">"
   ]
  },
  {
   "cell_type": "markdown",
   "metadata": {},
   "source": [
    "-------------"
   ]
  },
  {
   "cell_type": "markdown",
   "metadata": {},
   "source": [
    "Section 3. Visualization\n",
    "=========="
   ]
  },
  {
   "cell_type": "markdown",
   "metadata": {},
   "source": [
    "----------"
   ]
  },
  {
   "cell_type": "markdown",
   "metadata": {},
   "source": [
    "**3.1 One visualization should contain two histograms: one of  ENTRIESn_hourly for rainy days and one of ENTRIESn_hourly for non-rainy days.**"
   ]
  },
  {
   "cell_type": "markdown",
   "metadata": {},
   "source": [
    "<img src=\"Rain_no_rain.png\">"
   ]
  },
  {
   "cell_type": "markdown",
   "metadata": {},
   "source": [
    "_This histogram shows us a skewness of data (expected), but as it is not normalized by number of rainy and not rainy days we can't apply it for any further conclusions_."
   ]
  },
  {
   "cell_type": "markdown",
   "metadata": {},
   "source": [
    "-------------"
   ]
  },
  {
   "cell_type": "markdown",
   "metadata": {},
   "source": [
    "**3.2 One visualization can be more freeform. You should feel free to implement something that we discussed in class (e.g., scatter plots, line plots) or attempt to implement something more advanced if you'd like. Some suggestions are:\n",
    "Ridership by time-of-day\n",
    "Ridership by day-of-week**"
   ]
  },
  {
   "cell_type": "markdown",
   "metadata": {},
   "source": [
    "These visualizations was done with python ggplot(). I decided to use bar charts, by any type can be equally informative for these cases."
   ]
  },
  {
   "cell_type": "markdown",
   "metadata": {},
   "source": [
    "<img src=\"By_hour.png\">"
   ]
  },
  {
   "cell_type": "markdown",
   "metadata": {},
   "source": [
    "_This bar chart shows mean number of entrances on the appropriate hour of day. We can clearly see peak hours - in the morning, at the lunch-time and homegoing hours in the second part of day. Though it is a question, why the mean number of entrances in the morning so different from evening. Maybe I should have to separate weekdays from weekends._"
   ]
  },
  {
   "cell_type": "markdown",
   "metadata": {},
   "source": [
    "<img src=\"By_day.png\">"
   ]
  },
  {
   "cell_type": "markdown",
   "metadata": {},
   "source": [
    "_This bar chart shows mean number of entrances on the appropriate day of week. Here we can see perfectly normal weekly seasonality - greater number of people using subway during the workweek, fewer in weekends._"
   ]
  },
  {
   "cell_type": "markdown",
   "metadata": {},
   "source": [
    "----------"
   ]
  },
  {
   "cell_type": "markdown",
   "metadata": {},
   "source": [
    "Section 4. Conclusion\n",
    "=============="
   ]
  },
  {
   "cell_type": "markdown",
   "metadata": {},
   "source": [
    "-----------"
   ]
  },
  {
   "cell_type": "markdown",
   "metadata": {},
   "source": [
    "**4.1 From your analysis and interpretation of the data, do more people ride the NYC subway when it is raining or when it is not raining?**"
   ]
  },
  {
   "cell_type": "markdown",
   "metadata": {},
   "source": [
    "_To analyze NY Subway dataset Mann-Whitney statistical test was applied and obtained results revealed that there is a slight difference between ridership in rainy and non rainy days - in rainy days slightly more people enters the NY subway stations. Average number of entrances in rainy days is approximately 2028, in non rainy days - 1846._"
   ]
  },
  {
   "cell_type": "markdown",
   "metadata": {},
   "source": [
    "----------"
   ]
  },
  {
   "cell_type": "markdown",
   "metadata": {},
   "source": [
    "**4.2 What analyses lead you to this conclusion? You should use results from both your statistical\n",
    "tests and your linear regression to support your analysis.**"
   ]
  },
  {
   "cell_type": "markdown",
   "metadata": {},
   "source": [
    "Result of Mann-Whitney test, namely, probability of obtain the different value of number of people choosing randomly from subset of rainy days vs choosing from non rainy days, showed, that there is a statistically significant difference; comparing summary statistics - such as means and medians - revealed, that higher ridership characterized rainy days. Also, in regression model raininess is a significant predictor with the positive weight, that means that this factor contributes to the prediction  of number of passengers."
   ]
  },
  {
   "cell_type": "markdown",
   "metadata": {},
   "source": [
    "------------"
   ]
  },
  {
   "cell_type": "markdown",
   "metadata": {},
   "source": [
    "Section 5. Reflection\n",
    "=========="
   ]
  },
  {
   "cell_type": "markdown",
   "metadata": {},
   "source": [
    "-----------"
   ]
  },
  {
   "cell_type": "markdown",
   "metadata": {},
   "source": [
    "**5.1 Please discuss potential shortcomings of the methods of your analysis, including:**\n",
    "\n",
    "**Dataset,**\n",
    "\n",
    "**Analysis, such as the linear regression model or statistical test.**"
   ]
  },
  {
   "cell_type": "markdown",
   "metadata": {},
   "source": [
    "Raininess usually not a day-long characteristics, for example, days, when it was raining between 03 and 07 am can be marked as rainy, but in fact this rain didn't cause changes in ridership.\n",
    "Most of the predictors are weather conditions, so correlated to each other (rain and preassure for example), so using some of them tougether in the regression model can cause multicollinearity problems.\n",
    "In raw dataset it is also some inconsistencies in times of registration on number of entries in different units (stations).\n",
    "\n",
    "After performing a model, histogram of the residuals shows heavy tales, this meant that model fit is questionable. Though I've deleted one variable of each dummy sets and tested different sets of features, residuals distribution indicates that there is a problem."
   ]
  }
 ],
 "metadata": {
  "kernelspec": {
   "display_name": "Python 2",
   "language": "python",
   "name": "python2"
  },
  "language_info": {
   "codemirror_mode": {
    "name": "ipython",
    "version": 2
   },
   "file_extension": ".py",
   "mimetype": "text/x-python",
   "name": "python",
   "nbconvert_exporter": "python",
   "pygments_lexer": "ipython2",
   "version": "2.7.6"
  }
 },
 "nbformat": 4,
 "nbformat_minor": 0
}
