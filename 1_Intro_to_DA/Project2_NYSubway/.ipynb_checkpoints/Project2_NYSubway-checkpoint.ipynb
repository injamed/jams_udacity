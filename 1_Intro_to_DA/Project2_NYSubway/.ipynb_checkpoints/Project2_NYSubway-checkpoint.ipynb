{
 "cells": [
  {
   "cell_type": "markdown",
   "metadata": {},
   "source": [
    "Project 2: Analyzing the NYC Subway Dataset\n",
    "=============="
   ]
  },
  {
   "cell_type": "markdown",
   "metadata": {},
   "source": [
    "-----------"
   ]
  },
  {
   "cell_type": "markdown",
   "metadata": {},
   "source": [
    "Section 0. References\n",
    "-----------"
   ]
  },
  {
   "cell_type": "markdown",
   "metadata": {},
   "source": [
    "----------------"
   ]
  },
  {
   "cell_type": "markdown",
   "metadata": {},
   "source": [
    " Problems with understanding and interpretation of the Mann-Whitney U-test:\n",
    " \n",
    " http://stats.stackexchange.com/questions/124995/how-do-i-interpret-the-p-value-returned-in-scipys-mann-whitney-u-test\n",
    "        \n",
    " https://discussions.udacity.com/t/problem-set-3-3-interpreting-mann-whitney-u-test-repost/25403/2   \n",
    " \n",
    " https://discussions.udacity.com/t/welchs-ttest-use-it-if-distribution-not-normal/21193\n",
    " \n",
    " Linear regression with Python:\n",
    " \n",
    " http://connor-johnson.com/2014/02/18/linear-regression-with-python/\n",
    " \n",
    " R squared one more time:\n",
    " \n",
    " https://en.wikipedia.org/wiki/Coefficient_of_determination#Interpretation\n",
    " \n",
    " Matplotlib: equal width of the bins in histogram (looks familiar):\n",
    " \n",
    " http://stackoverflow.com/questions/28101623/python-pyplot-histogram-adjusting-bin-width-not-number-of-bins"
   ]
  },
  {
   "cell_type": "markdown",
   "metadata": {},
   "source": [
    "----------"
   ]
  },
  {
   "cell_type": "markdown",
   "metadata": {},
   "source": [
    "\n",
    "Section 1. Statistical Test\n",
    "------------"
   ]
  },
  {
   "cell_type": "markdown",
   "metadata": {},
   "source": [
    "*********************"
   ]
  },
  {
   "cell_type": "markdown",
   "metadata": {},
   "source": [
    "**1.1 Which statistical test did you use to analyze the NYC subway data? Did you use a one-tail or a two-tail P value? What is the null hypothesis? What is your p-critical value?**"
   ]
  },
  {
   "cell_type": "markdown",
   "metadata": {},
   "source": [
    "I used **two-sided Mann-Whitney U-test** (two-tailed p-value: 0.04999983)\n",
    "\n",
    "null hypothesis $H_0$: distribution of the number of entries equal for rainy and non rainy days\n",
    "\n",
    "alternative hypothesis $H_1$: distribution of the number of entries different for rainy and non rainy days"
   ]
  },
  {
   "cell_type": "markdown",
   "metadata": {},
   "source": [
    "--------------"
   ]
  },
  {
   "cell_type": "markdown",
   "metadata": {},
   "source": [
    "**1.2 Why is this statistical test applicable to the dataset? In particular, consider the assumptions that the test is making about the distribution of ridership in the two samples.**"
   ]
  },
  {
   "cell_type": "markdown",
   "metadata": {},
   "source": [
    "We don't care about any properties of the samples to be tested with the Mann-Whitney U-test. In our case both distributions are right-skewed."
   ]
  },
  {
   "cell_type": "markdown",
   "metadata": {},
   "source": [
    "------------"
   ]
  },
  {
   "cell_type": "markdown",
   "metadata": {},
   "source": [
    "**1.3 What results did you get from this statistical test? These should include the following numerical values: p-values, as well as the means for each of the two samples under test.**"
   ]
  },
  {
   "cell_type": "markdown",
   "metadata": {},
   "source": [
    "mean for the rainy days sample: $\\mu_r = 1105.446$\n",
    "\n",
    "mean for the non rainy days sample: $\\mu_r = 1090.279$\n",
    "\n",
    "p-value: p = 0.04999983"
   ]
  },
  {
   "cell_type": "markdown",
   "metadata": {},
   "source": [
    "------------"
   ]
  },
  {
   "cell_type": "markdown",
   "metadata": {},
   "source": [
    "**1.4 What is the significance and interpretation of these results?**"
   ]
  },
  {
   "cell_type": "markdown",
   "metadata": {},
   "source": [
    "With the significance level α=0.05 null-hypothesis is rejected in favour of the alternative. But it has to be noted, that resulted p-value almost equal to critical value.\n",
    "Distribution of the number of entrances statistically different between rainy and non rainy days. Comparisons of means suppose, that we have slightly higher number of entrances in rainy days."
   ]
  },
  {
   "cell_type": "markdown",
   "metadata": {},
   "source": [
    "-------------"
   ]
  },
  {
   "cell_type": "markdown",
   "metadata": {},
   "source": [
    "Section 2. Linear Regression\n",
    "=============="
   ]
  },
  {
   "cell_type": "markdown",
   "metadata": {},
   "source": [
    "------------"
   ]
  },
  {
   "cell_type": "markdown",
   "metadata": {},
   "source": [
    "**2.1 What approach did you use to compute the coefficients theta and produce prediction for ENTRIESn_hourly in your regression model:**\n",
    "\n",
    "**OLS using Statsmodels or Scikit Learn**\n",
    "\n",
    "**Gradient descent using Scikit Learn**\n",
    "\n",
    "**Or something different?**"
   ]
  },
  {
   "cell_type": "markdown",
   "metadata": {},
   "source": [
    "I used statmodels.OLS(.,.)"
   ]
  },
  {
   "cell_type": "markdown",
   "metadata": {},
   "source": [
    "------------------"
   ]
  },
  {
   "cell_type": "markdown",
   "metadata": {},
   "source": [
    "**2.2 What features (input variables) did you use in your model? Did you use any dummy variables as part of your features?**"
   ]
  },
  {
   "cell_type": "markdown",
   "metadata": {},
   "source": [
    "I used: 'Hour', 'maxpressurei', 'maxdewpti','minpressurei', 'meanpressurei', 'rain', 'meanwindspdi', 'mintempi' and dummy variable prodused from 'UNIT' variable."
   ]
  },
  {
   "cell_type": "markdown",
   "metadata": {},
   "source": [
    "----------"
   ]
  },
  {
   "cell_type": "markdown",
   "metadata": {},
   "source": [
    "**2.3 Why did you select these features in your model? We are looking for specific reasons that lead you to believe that\n",
    "the selected features will contribute to the predictive power of your model.\n",
    "Your reasons might be based on intuition. For example, response for fog might be: “I decided to use fog because I thought that when it is very foggy outside people might decide to use the subway more often.”\n",
    "Your reasons might also be based on data exploration and experimentation, for example: “I used feature X because as soon as I included it in my model, it drastically improved my R2 value.”**"
   ]
  },
  {
   "cell_type": "markdown",
   "metadata": {},
   "source": [
    "First I've tried several combinations using an intuition, then I've printed out summary of fitting the linear regression and chose coefficients, that significantly different from 0. Code and summary below:"
   ]
  },
  {
   "cell_type": "code",
   "execution_count": 9,
   "metadata": {
    "collapsed": false
   },
   "outputs": [],
   "source": [
    "def linear_regression(features, values):\n",
    "    \n",
    "    features = sm.add_constant(features, prepend = True)\n",
    "    model = sm.OLS(values, features)\n",
    "    results = model.fit()\n",
    "    intercept = results.params[0]\n",
    "    params = results.params[1:]\n",
    "    print intercept, params, results.summary()\n",
    "#print linear_regression(dataframe[nmes_clear], dataframe['ENTRIESn_hourly'])"
   ]
  },
  {
   "cell_type": "markdown",
   "metadata": {},
   "source": [
    "Note: I had to got rid of \"thunder\" variable, because there was a problem adding the constant (intercept) when one constant already exists in data set. I can't find a link right now, but it is known problem."
   ]
  },
  {
   "cell_type": "markdown",
   "metadata": {},
   "source": [
    "------------"
   ]
  },
  {
   "cell_type": "markdown",
   "metadata": {},
   "source": [
    "**2.4 What are the parameters (also known as \"coefficients\" or \"weights\") of the non-dummy features in your linear regression model?**"
   ]
  },
  {
   "cell_type": "raw",
   "metadata": {},
   "source": [
    " =================================================================================\n",
    "                    coef    std err          t      P>|t|      [95.0% Conf. Int.]\n",
    "---------------------------------------------------------------------------------\n",
    "const          1.051e+04   1343.472      7.826      0.000      7880.473  1.31e+04\n",
    "Hour             67.4503      0.689     97.909      0.000        66.100    68.801\n",
    "maxpressurei  -2719.9179    183.751    -14.802      0.000     -3080.066 -2359.770\n",
    "maxdewpti        21.4280      4.267      5.021      0.000        13.064    29.792\n",
    "mindewpti        -6.1298      3.939     -1.556      0.120       -13.851     1.591\n",
    "minpressurei  -1488.7963    184.095     -8.087      0.000     -1849.620 -1127.973\n",
    "meandewpti        8.5168      7.259      1.173      0.241        -5.710    22.744\n",
    "meanpressurei  3900.9025    287.003     13.592      0.000      3338.381  4463.424\n",
    "fog              -8.4016     22.375     -0.375      0.707       -52.257    35.454\n",
    "rain            -58.7821     17.287     -3.400      0.001       -92.664   -24.901\n",
    "meanwindspdi     29.3973      2.847     10.324      0.000        23.816    34.978\n",
    "mintempi        -72.4921     11.930     -6.077      0.000       -95.875   -49.110\n",
    "meantempi        43.8477     22.274      1.969      0.049         0.191    87.504\n",
    "maxtempi         -8.9792     11.037     -0.814      0.416       -30.612    12.654\n",
    "precipi         -43.1122     17.898     -2.409      0.016       -78.191    -8.033\n",
    "unit_R001      ...\n",
    "=============================================================================="
   ]
  },
  {
   "cell_type": "markdown",
   "metadata": {},
   "source": [
    "------------"
   ]
  },
  {
   "cell_type": "markdown",
   "metadata": {},
   "source": [
    "**2.5 What is your model’s R2 (coefficients of determination) value?**"
   ]
  },
  {
   "cell_type": "markdown",
   "metadata": {},
   "source": [
    "$R^2 = 0.481891290522$"
   ]
  },
  {
   "cell_type": "markdown",
   "metadata": {},
   "source": [
    "----------"
   ]
  },
  {
   "cell_type": "markdown",
   "metadata": {},
   "source": [
    "**2.6 What does this R2 value mean for the goodness of fit for your regression model? Do you think this linear model to predict ridership is appropriate for this dataset, given this R2  value?**"
   ]
  },
  {
   "cell_type": "markdown",
   "metadata": {},
   "source": [
    "Around 48% of the variance in the response variable (number of entrances per hour) can be explained by the explanatory variables. As it is a real-world data-set this value is fair enough, I reckon this model is fit reasonably well."
   ]
  },
  {
   "cell_type": "markdown",
   "metadata": {},
   "source": [
    "-------------"
   ]
  },
  {
   "cell_type": "markdown",
   "metadata": {},
   "source": [
    "Section 3. Visualization\n",
    "=========="
   ]
  },
  {
   "cell_type": "markdown",
   "metadata": {},
   "source": [
    "----------"
   ]
  },
  {
   "cell_type": "markdown",
   "metadata": {},
   "source": [
    "**3.1 One visualization should contain two histograms: one of  ENTRIESn_hourly for rainy days and one of ENTRIESn_hourly for non-rainy days.**"
   ]
  },
  {
   "cell_type": "markdown",
   "metadata": {},
   "source": [
    "<img src=\"Rain_no_rain.png\">"
   ]
  },
  {
   "cell_type": "markdown",
   "metadata": {},
   "source": [
    "_This histogram shows us a skewness of data (expected), but as it is not normalized by number of rainy and not rainy days we can't apply it for any further conclusions_.\n",
    "\n",
    "_Normalized version below:_"
   ]
  },
  {
   "cell_type": "markdown",
   "metadata": {},
   "source": [
    "<img src=\"Rain_no_rain_norm.png\">"
   ]
  },
  {
   "cell_type": "markdown",
   "metadata": {},
   "source": [
    "_Here we can see only slight difference, as expected from result of statistical test._"
   ]
  },
  {
   "cell_type": "markdown",
   "metadata": {},
   "source": [
    "-------------"
   ]
  },
  {
   "cell_type": "markdown",
   "metadata": {},
   "source": [
    "**3.2 One visualization can be more freeform. You should feel free to implement something that we discussed in class (e.g., scatter plots, line plots) or attempt to implement something more advanced if you'd like. Some suggestions are:\n",
    "Ridership by time-of-day\n",
    "Ridership by day-of-week**"
   ]
  },
  {
   "cell_type": "markdown",
   "metadata": {},
   "source": [
    "These visualizations was done with python ggplot(). I decided to use bar charts, by any type can be equally informative for these cases."
   ]
  },
  {
   "cell_type": "markdown",
   "metadata": {},
   "source": [
    "<img src=\"By_hour.png\">"
   ]
  },
  {
   "cell_type": "markdown",
   "metadata": {},
   "source": [
    "_This bar chart shows mean number of entrances on the appropriate hour of day. We can clearly see peak hours - in the morning, at the lunch-time and homegoing hours in the second part of day. Though it is a question, why the mean number of entrances in the morning so different from evening. Maybe I should have to separate weekdays from weekends._"
   ]
  },
  {
   "cell_type": "markdown",
   "metadata": {},
   "source": [
    "<img src=\"By_day.png\">"
   ]
  },
  {
   "cell_type": "markdown",
   "metadata": {},
   "source": [
    "_This bar chart shows mean number of entrances on the appropriate day of week. Here we can see perfectly normal weekly seasonality - greater number of people using subway during the workweek, fewer in weekends._"
   ]
  },
  {
   "cell_type": "markdown",
   "metadata": {},
   "source": [
    "----------"
   ]
  },
  {
   "cell_type": "markdown",
   "metadata": {},
   "source": [
    "Section 4. Conclusion\n",
    "=============="
   ]
  },
  {
   "cell_type": "markdown",
   "metadata": {},
   "source": [
    "-----------"
   ]
  },
  {
   "cell_type": "markdown",
   "metadata": {},
   "source": [
    "**4.1 From your analysis and interpretation of the data, do more people ride the NYC subway when it is raining or when it is not raining?**"
   ]
  },
  {
   "cell_type": "markdown",
   "metadata": {},
   "source": [
    "_To analyze NY Subway dataset Mann-Whitney statistical test was applied and obtained results revealed that there is a slight difference between ridership in rainy and non rainy days - in rainy days slightly more people enters the NY subway stations. Average number of entrances in rainy days is approximately 1105, in non rainy days - 1090._"
   ]
  },
  {
   "cell_type": "markdown",
   "metadata": {},
   "source": [
    "----------"
   ]
  },
  {
   "cell_type": "markdown",
   "metadata": {},
   "source": [
    "**4.2 What analyses lead you to this conclusion? You should use results from both your statistical\n",
    "tests and your linear regression to support your analysis.**"
   ]
  },
  {
   "cell_type": "markdown",
   "metadata": {},
   "source": [
    "Result of Mann-Whitney test, namely, probability of obtain the different value of number of people choosing randomly from subset of rainy days vs choosing from non rainy days, showed, that there is a statistically significant difference; comparing summary statistics - such as means and medians - revealed, that higher ridership characterized rainy days. Also, in regression model raininess is a significant predictor, that means that this factor contributes to the prediction of number of passengers."
   ]
  },
  {
   "cell_type": "markdown",
   "metadata": {},
   "source": [
    "------------"
   ]
  },
  {
   "cell_type": "markdown",
   "metadata": {},
   "source": [
    "Section 5. Reflection\n",
    "=========="
   ]
  },
  {
   "cell_type": "markdown",
   "metadata": {},
   "source": [
    "-----------"
   ]
  },
  {
   "cell_type": "markdown",
   "metadata": {},
   "source": [
    "**5.1 Please discuss potential shortcomings of the methods of your analysis, including:**\n",
    "\n",
    "**Dataset,**\n",
    "\n",
    "**Analysis, such as the linear regression model or statistical test.**"
   ]
  },
  {
   "cell_type": "markdown",
   "metadata": {},
   "source": [
    "I noticed, that for a different UNITs time of registration of number of entrances can be shifted for one hour or missing (e.g. R001 - (Hours) 1, 5, 9, 13, 17, 21, R003 - 0, 4, 12, 16, 20), this can cause some issues. \n",
    "Second not very great thing is that raininess usually not a day-long characteristics, for example, days, when it was raining between 03 and 07 am can be marked as rainy, but in fact this rain didn't cause changes in ridership.\n",
    "Most of the predictors are weather conditions, so correlated to each other (rain and preassure for example), so using all of them in the regression model can cause multicollinearity problems. Also, output of the scipy's mannwhitneyu is [quastionable](http://stats.stackexchange.com/questions/124995/how-do-i-interpret-the-p-value-returned-in-scipys-mann-whitney-u-test)."
   ]
  },
  {
   "cell_type": "code",
   "execution_count": null,
   "metadata": {
    "collapsed": true
   },
   "outputs": [],
   "source": []
  }
 ],
 "metadata": {
  "kernelspec": {
   "display_name": "Python 2",
   "language": "python",
   "name": "python2"
  },
  "language_info": {
   "codemirror_mode": {
    "name": "ipython",
    "version": 2
   },
   "file_extension": ".py",
   "mimetype": "text/x-python",
   "name": "python",
   "nbconvert_exporter": "python",
   "pygments_lexer": "ipython2",
   "version": "2.7.6"
  }
 },
 "nbformat": 4,
 "nbformat_minor": 0
}
